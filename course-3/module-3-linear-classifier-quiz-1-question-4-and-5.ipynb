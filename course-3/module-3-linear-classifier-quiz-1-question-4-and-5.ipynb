{
 "cells": [
  {
   "cell_type": "code",
   "execution_count": 35,
   "metadata": {
    "collapsed": true
   },
   "outputs": [],
   "source": [
    "from __future__ import division\n",
    "import graphlab\n",
    "import math\n",
    "import string\n",
    "import numpy as np"
   ]
  },
  {
   "cell_type": "code",
   "execution_count": 36,
   "metadata": {
    "collapsed": false
   },
   "outputs": [
    {
     "name": "stdout",
     "output_type": "stream",
     "text": [
      "[ 2.5  0.3  2.8  0.5]\n"
     ]
    }
   ],
   "source": [
    "probabilities = []\n",
    "probabilities_positive = []\n",
    "weights = [0, 1]\n",
    "features = [[1, 2.5], [1, 0.3], [1, 2.8], [1, 0.5]]\n",
    "output = [1, -1, 1, 1]\n",
    "scores = np.dot(features, weights)\n",
    "print scores"
   ]
  },
  {
   "cell_type": "code",
   "execution_count": 37,
   "metadata": {
    "collapsed": false
   },
   "outputs": [
    {
     "name": "stdout",
     "output_type": "stream",
     "text": [
      "[0.9241418199787566, 0.42555748318834097, 0.9426758241011313, 0.6224593312018546]\n"
     ]
    }
   ],
   "source": [
    "for i in range(len(scores)):\n",
    "    probability = 1 / (1 + math.exp(-scores[i]))\n",
    "    probabilities_positive.append(probability)\n",
    "    if (output[i]) == -1:\n",
    "        probability = 1 - probability\n",
    "    probabilities.append(probability)\n",
    "print probabilities"
   ]
  },
  {
   "cell_type": "code",
   "execution_count": 38,
   "metadata": {
    "collapsed": false,
    "scrolled": true
   },
   "outputs": [
    {
     "data": {
      "text/plain": [
       "0.23076514147414118"
      ]
     },
     "execution_count": 38,
     "metadata": {},
     "output_type": "execute_result"
    }
   ],
   "source": [
    "reduce(lambda x, y: x*y, probabilities)"
   ]
  },
  {
   "cell_type": "code",
   "execution_count": 39,
   "metadata": {
    "collapsed": false,
    "scrolled": true
   },
   "outputs": [
    {
     "name": "stdout",
     "output_type": "stream",
     "text": [
      "[[ 2.5]\n",
      " [ 0.3]\n",
      " [ 2.8]\n",
      " [ 0.5]]\n"
     ]
    }
   ],
   "source": [
    "features_matrix = np.matrix(features)\n",
    "features_array = features_matrix[:,1]\n",
    "print features_array"
   ]
  },
  {
   "cell_type": "code",
   "execution_count": 41,
   "metadata": {
    "collapsed": false
   },
   "outputs": [
    {
     "data": {
      "text/plain": [
       "matrix([[ 0.36659072]])"
      ]
     },
     "execution_count": 41,
     "metadata": {},
     "output_type": "execute_result"
    }
   ],
   "source": [
    "contributions = []\n",
    "for i in range(len(features_array)):\n",
    "    feature_x = features_array[i]\n",
    "    output_y = output[i]\n",
    "    indicator = None\n",
    "    if output_y == -1:\n",
    "        indicator = 0\n",
    "    elif output_y == 1:\n",
    "        indicator = 1\n",
    "    contribution = feature_x * (indicator - probabilities_positive[i])\n",
    "    contributions.append(contribution)\n",
    "sum(contributions)"
   ]
  }
 ],
 "metadata": {
  "kernelspec": {
   "display_name": "Python 2",
   "language": "python",
   "name": "python2"
  },
  "language_info": {
   "codemirror_mode": {
    "name": "ipython",
    "version": 2
   },
   "file_extension": ".py",
   "mimetype": "text/x-python",
   "name": "python",
   "nbconvert_exporter": "python",
   "pygments_lexer": "ipython2",
   "version": "2.7.11"
  }
 },
 "nbformat": 4,
 "nbformat_minor": 0
}
