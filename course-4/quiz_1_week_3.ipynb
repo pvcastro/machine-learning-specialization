{
 "cells": [
  {
   "cell_type": "code",
   "execution_count": 1,
   "metadata": {
    "collapsed": true
   },
   "outputs": [],
   "source": [
    "import numpy as np"
   ]
  },
  {
   "cell_type": "code",
   "execution_count": 2,
   "metadata": {
    "collapsed": false
   },
   "outputs": [],
   "source": [
    "dp1 = {'coordinates': [-1.88, 2.05], 'cluster': None, 'changed': False, 'changed_times': 0}\n",
    "dp2 = {'coordinates': [-0.71, 0.42], 'cluster': None, 'changed': False, 'changed_times': 0}\n",
    "dp3 = {'coordinates': [2.41, -0.67], 'cluster': None, 'changed': False, 'changed_times': 0}\n",
    "dp4 = {'coordinates': [1.85, -3.80], 'cluster': None, 'changed': False, 'changed_times': 0}\n",
    "dp5 = {'coordinates': [-3.69, -1.33], 'cluster': None, 'changed': False, 'changed_times': 0}\n",
    "data_points = [dp1, dp2, dp3, dp4, dp5]\n",
    "c1 = [2.0, 2.0]\n",
    "c2 = [-2.0, -2.0]\n",
    "current_clusters = [c1, c2]"
   ]
  },
  {
   "cell_type": "code",
   "execution_count": 3,
   "metadata": {
    "collapsed": true
   },
   "outputs": [],
   "source": [
    "def get_power(array, power):\n",
    "    result = np.power(array, power)\n",
    "    return result"
   ]
  },
  {
   "cell_type": "code",
   "execution_count": 4,
   "metadata": {
    "collapsed": true
   },
   "outputs": [],
   "source": [
    "def get_sum(array):\n",
    "    result = np.sum(array)\n",
    "    return result"
   ]
  },
  {
   "cell_type": "code",
   "execution_count": 5,
   "metadata": {
    "collapsed": true
   },
   "outputs": [],
   "source": [
    "def get_subtraction(array1, array2):\n",
    "    result = np.subtract(array1, array2)\n",
    "    return result"
   ]
  },
  {
   "cell_type": "code",
   "execution_count": 6,
   "metadata": {
    "collapsed": true
   },
   "outputs": [],
   "source": [
    "def get_euclidean_distance(array1, array2):\n",
    "    sub = get_subtraction(array1, array2)\n",
    "    power = get_power(sub, 2)\n",
    "    sum_power = get_sum(power)\n",
    "    return np.sqrt(sum_power)"
   ]
  },
  {
   "cell_type": "code",
   "execution_count": 7,
   "metadata": {
    "collapsed": true
   },
   "outputs": [],
   "source": [
    "def get_nearest_cluster(data_point, clusters):\n",
    "    nearest_cluster = None\n",
    "    smallest_distance = None\n",
    "    for cluster in clusters:\n",
    "        distance = get_euclidean_distance(data_point['coordinates'], cluster)\n",
    "        if (nearest_cluster is None or smallest_distance > distance):\n",
    "            nearest_cluster = cluster\n",
    "            smallest_distance = distance\n",
    "    return nearest_cluster"
   ]
  },
  {
   "cell_type": "code",
   "execution_count": 8,
   "metadata": {
    "collapsed": true
   },
   "outputs": [],
   "source": [
    "def assign_clusters(data_points, clusters):\n",
    "    for data_point in data_points:\n",
    "        nearest_cluster = get_nearest_cluster(data_point, clusters)\n",
    "        if data_point['cluster'] is None or data_point['cluster'] != nearest_cluster:\n",
    "            data_point['changed'] = True\n",
    "            data_point['changed_times'] = data_point['changed_times'] + 1\n",
    "        else:\n",
    "            data_point['changed'] = False\n",
    "        data_point['cluster'] = nearest_cluster"
   ]
  },
  {
   "cell_type": "code",
   "execution_count": 9,
   "metadata": {
    "collapsed": false
   },
   "outputs": [],
   "source": [
    "def update_clusters(data_points, clusters):\n",
    "    print 'updating clusters %s' % str(clusters)\n",
    "    for cluster in clusters:\n",
    "        points_in_cluster = []\n",
    "        points = []\n",
    "        for data_point in data_points:\n",
    "            if data_point['cluster'] == cluster:\n",
    "                #print 'adding %s to %s' % (str(data_point), str(cluster))\n",
    "                points_in_cluster.append(data_point)\n",
    "                points.append(data_point['coordinates'])\n",
    "        np_arrays = np.array(points)\n",
    "        new_cluster = sum(np_arrays)/len(points)\n",
    "        cluster[0] = new_cluster[0]\n",
    "        cluster[1] = new_cluster[1]\n",
    "        for data_point in points_in_cluster:\n",
    "            data_point['cluster'] = cluster"
   ]
  },
  {
   "cell_type": "code",
   "execution_count": 10,
   "metadata": {
    "collapsed": true
   },
   "outputs": [],
   "source": [
    "def any_data_point_changed(data_points):\n",
    "    for dp in data_points:\n",
    "        if dp['changed'] is True: \n",
    "            return True\n",
    "    return False"
   ]
  },
  {
   "cell_type": "code",
   "execution_count": 11,
   "metadata": {
    "collapsed": false
   },
   "outputs": [
    {
     "name": "stdout",
     "output_type": "stream",
     "text": [
      "updating clusters [[2.0, 2.0], [-2.0, -2.0]]\n",
      "updating clusters [[0.26500000000000012, 0.68999999999999995], [-0.84999999999999998, -1.5700000000000001]]\n",
      "[{'cluster': [-0.059999999999999908, 0.59999999999999998], 'changed': False, 'changed_times': 1, 'coordinates': [-1.88, 2.05]}, {'cluster': [-0.059999999999999908, 0.59999999999999998], 'changed': True, 'changed_times': 2, 'coordinates': [-0.71, 0.42]}, {'cluster': [-0.059999999999999908, 0.59999999999999998], 'changed': False, 'changed_times': 1, 'coordinates': [2.41, -0.67]}, {'cluster': [-0.91999999999999993, -2.5649999999999999], 'changed': False, 'changed_times': 1, 'coordinates': [1.85, -3.8]}, {'cluster': [-0.91999999999999993, -2.5649999999999999], 'changed': False, 'changed_times': 1, 'coordinates': [-3.69, -1.33]}]\n",
      "[[-0.059999999999999908, 0.59999999999999998], [-0.91999999999999993, -2.5649999999999999]]\n",
      "updating clusters [[-0.059999999999999908, 0.59999999999999998], [-0.91999999999999993, -2.5649999999999999]]\n",
      "[{'cluster': [-0.059999999999999908, 0.59999999999999998], 'changed': False, 'changed_times': 1, 'coordinates': [-1.88, 2.05]}, {'cluster': [-0.059999999999999908, 0.59999999999999998], 'changed': False, 'changed_times': 2, 'coordinates': [-0.71, 0.42]}, {'cluster': [-0.059999999999999908, 0.59999999999999998], 'changed': False, 'changed_times': 1, 'coordinates': [2.41, -0.67]}, {'cluster': [-0.91999999999999993, -2.5649999999999999], 'changed': False, 'changed_times': 1, 'coordinates': [1.85, -3.8]}, {'cluster': [-0.91999999999999993, -2.5649999999999999], 'changed': False, 'changed_times': 1, 'coordinates': [-3.69, -1.33]}]\n",
      "[[-0.059999999999999908, 0.59999999999999998], [-0.91999999999999993, -2.5649999999999999]]\n"
     ]
    }
   ],
   "source": [
    "assign_clusters(data_points, current_clusters)\n",
    "update_clusters(data_points, current_clusters)\n",
    "while any_data_point_changed(data_points) is True:\n",
    "    assign_clusters(data_points, current_clusters)\n",
    "    update_clusters(data_points, current_clusters)\n",
    "    print data_points\n",
    "    print current_clusters"
   ]
  }
 ],
 "metadata": {
  "kernelspec": {
   "display_name": "Python 2",
   "language": "python",
   "name": "python2"
  },
  "language_info": {
   "codemirror_mode": {
    "name": "ipython",
    "version": 2
   },
   "file_extension": ".py",
   "mimetype": "text/x-python",
   "name": "python",
   "nbconvert_exporter": "python",
   "pygments_lexer": "ipython2",
   "version": "2.7.10"
  }
 },
 "nbformat": 4,
 "nbformat_minor": 0
}
