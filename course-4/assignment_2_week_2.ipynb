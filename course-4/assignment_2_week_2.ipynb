{
 "cells": [
  {
   "cell_type": "code",
   "execution_count": 1,
   "metadata": {
    "collapsed": true
   },
   "outputs": [],
   "source": [
    "import numpy as np\n",
    "    "
   ]
  },
  {
   "cell_type": "code",
   "execution_count": 2,
   "metadata": {
    "collapsed": true
   },
   "outputs": [],
   "source": [
    "def get_power(array, power):\n",
    "    result = np.power(array, power)\n",
    "    #print array + ' to the ' + power + ': ' + result\n",
    "    print '%s to the %d: %s' % (str(array), power, str(result))\n",
    "    return result"
   ]
  },
  {
   "cell_type": "code",
   "execution_count": 3,
   "metadata": {
    "collapsed": true
   },
   "outputs": [],
   "source": [
    "def get_sum(array):\n",
    "    result = np.sum(array)\n",
    "    print 'sum of %s: %s' % (str(array), str(result))\n",
    "    return result"
   ]
  },
  {
   "cell_type": "code",
   "execution_count": 4,
   "metadata": {
    "collapsed": false
   },
   "outputs": [],
   "source": [
    "def get_subtraction(array1, array2):\n",
    "    result = np.subtract(array1, array2)\n",
    "    print 'subtraction of %s and %s: %s' % (str(array1), str(array2), str(result))\n",
    "    return result"
   ]
  },
  {
   "cell_type": "code",
   "execution_count": 5,
   "metadata": {
    "collapsed": true
   },
   "outputs": [],
   "source": [
    "def get_product(array1, array2):\n",
    "    result = np.multiply(array1, array2)\n",
    "    print 'product of %s and %s: %s' % (str(array1), str(array2), str(result))\n",
    "    return result"
   ]
  },
  {
   "cell_type": "code",
   "execution_count": 6,
   "metadata": {
    "collapsed": true
   },
   "outputs": [],
   "source": [
    "def get_euclidean_distance(array1, array2):\n",
    "    sub = get_subtraction(array1, array2)\n",
    "    power = get_power(sub, 2)\n",
    "    sum_power = get_sum(power)\n",
    "    return np.sqrt(sum_power)"
   ]
  },
  {
   "cell_type": "code",
   "execution_count": 7,
   "metadata": {
    "collapsed": true
   },
   "outputs": [],
   "source": [
    "def get_cosine_similarity(array1, array2):\n",
    "    den_1 = np.sqrt(get_sum(get_power(array1, 2)))\n",
    "    den_2 = np.sqrt(get_sum(get_power(array2, 2)))\n",
    "    den = den_1 * den_2\n",
    "    num = get_sum(get_product(array1, array2))\n",
    "    return num / den"
   ]
  },
  {
   "cell_type": "code",
   "execution_count": 8,
   "metadata": {
    "collapsed": true
   },
   "outputs": [],
   "source": [
    "dp_a = [1., 2.]\n",
    "dp_b = [3., 5.]\n",
    "dp_c = [5., 4.]"
   ]
  },
  {
   "cell_type": "code",
   "execution_count": 9,
   "metadata": {
    "collapsed": false
   },
   "outputs": [
    {
     "name": "stdout",
     "output_type": "stream",
     "text": [
      "[1.0, 2.0] to the 2: [ 1.  4.]\n",
      "sum of [ 1.  4.]: 5.0\n",
      "[3.0, 5.0] to the 2: [  9.  25.]\n",
      "sum of [  9.  25.]: 34.0\n",
      "product of [1.0, 2.0] and [3.0, 5.0]: [  3.  10.]\n",
      "sum of [  3.  10.]: 13.0\n",
      "0.997054485502\n",
      "[1.0, 2.0] to the 2: [ 1.  4.]\n",
      "sum of [ 1.  4.]: 5.0\n",
      "[5.0, 4.0] to the 2: [ 25.  16.]\n",
      "sum of [ 25.  16.]: 41.0\n",
      "product of [1.0, 2.0] and [5.0, 4.0]: [ 5.  8.]\n",
      "sum of [ 5.  8.]: 13.0\n",
      "0.9079593845\n",
      "[3.0, 5.0] to the 2: [  9.  25.]\n",
      "sum of [  9.  25.]: 34.0\n",
      "[5.0, 4.0] to the 2: [ 25.  16.]\n",
      "sum of [ 25.  16.]: 41.0\n",
      "product of [3.0, 5.0] and [5.0, 4.0]: [ 15.  20.]\n",
      "sum of [ 15.  20.]: 35.0\n",
      "0.93742527201\n"
     ]
    }
   ],
   "source": [
    "print get_cosine_similarity(dp_a, dp_b)\n",
    "print get_cosine_similarity(dp_a, dp_c)\n",
    "print get_cosine_similarity(dp_b, dp_c)"
   ]
  },
  {
   "cell_type": "code",
   "execution_count": 10,
   "metadata": {
    "collapsed": false
   },
   "outputs": [
    {
     "name": "stdout",
     "output_type": "stream",
     "text": [
      "subtraction of [1.0, 2.0] and [3.0, 5.0]: [-2. -3.]\n",
      "[-2. -3.] to the 2: [ 4.  9.]\n",
      "sum of [ 4.  9.]: 13.0\n",
      "3.60555127546\n",
      "subtraction of [1.0, 2.0] and [5.0, 4.0]: [-4. -2.]\n",
      "[-4. -2.] to the 2: [ 16.   4.]\n",
      "sum of [ 16.   4.]: 20.0\n",
      "4.472135955\n",
      "subtraction of [3.0, 5.0] and [5.0, 4.0]: [-2.  1.]\n",
      "[-2.  1.] to the 2: [ 4.  1.]\n",
      "sum of [ 4.  1.]: 5.0\n",
      "2.2360679775\n"
     ]
    }
   ],
   "source": [
    "print get_euclidean_distance(dp_a, dp_b)\n",
    "print get_euclidean_distance(dp_a, dp_c)\n",
    "print get_euclidean_distance(dp_b, dp_c)"
   ]
  },
  {
   "cell_type": "code",
   "execution_count": 11,
   "metadata": {
    "collapsed": false
   },
   "outputs": [
    {
     "name": "stderr",
     "output_type": "stream",
     "text": [
      "[INFO] graphlab.cython.cy_server: GraphLab Create v2.1 started. Logging: /tmp/graphlab_server_1473107887.log\n",
      "INFO:graphlab.cython.cy_server:GraphLab Create v2.1 started. Logging: /tmp/graphlab_server_1473107887.log\n"
     ]
    },
    {
     "name": "stdout",
     "output_type": "stream",
     "text": [
      "This non-commercial license of GraphLab Create for academic use is assigned to pvcastro@gmail.com and will expire on September 03, 2017.\n",
      "+-------------------------------+\n",
      "|             value             |\n",
      "+-------------------------------+\n",
      "| The quick brown fox jumps ... |\n",
      "| A quick brown dog outpaces... |\n",
      "+-------------------------------+\n",
      "[2 rows x 1 columns]\n",
      "\n",
      "+-------------------------------+-------------------------------+-----+---+-------+\n",
      "|             value             |             clean             | the | a | quick |\n",
      "+-------------------------------+-------------------------------+-----+---+-------+\n",
      "| The quick brown fox jumps ... | the quick brown fox jumps ... |  2  | 0 |   1   |\n",
      "| A quick brown dog outpaces... | a quick brown dog outpaces... |  0  | 2 |   2   |\n",
      "+-------------------------------+-------------------------------+-----+---+-------+\n",
      "+-------+-----+-------+------+------+-----+----------+\n",
      "| brown | fox | jumps | over | lazy | dog | outpaces |\n",
      "+-------+-----+-------+------+------+-----+----------+\n",
      "|   1   |  1  |   1   |  1   |  1   |  1  |    0     |\n",
      "|   1   |  1  |   0   |  0   |  0   |  1  |    1     |\n",
      "+-------+-----+-------+------+------+-----+----------+\n",
      "[2 rows x 12 columns]\n",
      "\n"
     ]
    }
   ],
   "source": [
    "import graphlab\n",
    "\n",
    "important_words = ['the', 'a', 'quick', 'brown', 'fox', 'jumps', 'over', 'lazy', 'dog', 'outpaces']\n",
    "\n",
    "# Remote punctuation\n",
    "def remove_punctuation(text):\n",
    "    import string\n",
    "    return text.lower().translate(None, string.punctuation) \n",
    "\n",
    "import graphlab\n",
    "from graphlab import SFrame\n",
    "\n",
    "sentences = graphlab.SFrame({'value':['The quick brown fox jumps over the lazy dog.', 'A quick brown dog outpaces a quick fox.']})\n",
    "print sentences\n",
    "\n",
    "sentences['clean'] = sentences['value'].apply(remove_punctuation)\n",
    "\n",
    "# Split out the words into individual columns\n",
    "for word in important_words:\n",
    "    sentences[word] = sentences['clean'].apply(lambda s : s.split().count(word))\n",
    "    \n",
    "print sentences"
   ]
  },
  {
   "cell_type": "code",
   "execution_count": 12,
   "metadata": {
    "collapsed": false,
    "scrolled": true
   },
   "outputs": [
    {
     "name": "stdout",
     "output_type": "stream",
     "text": [
      "subtraction of [2 0 1 1 1 1 1 1 1 0] and [0 2 2 1 1 0 0 0 1 1]: [ 2 -2 -1  0  0  1  1  1  0 -1]\n",
      "[ 2 -2 -1  0  0  1  1  1  0 -1] to the 2: [4 4 1 0 0 1 1 1 0 1]\n",
      "sum of [4 4 1 0 0 1 1 1 0 1]: 13\n",
      "3.60555127546\n",
      "[2 0 1 1 1 1 1 1 1 0] to the 2: [4 0 1 1 1 1 1 1 1 0]\n",
      "sum of [4 0 1 1 1 1 1 1 1 0]: 11\n",
      "[0 2 2 1 1 0 0 0 1 1] to the 2: [0 4 4 1 1 0 0 0 1 1]\n",
      "sum of [0 4 4 1 1 0 0 0 1 1]: 12\n",
      "product of [2 0 1 1 1 1 1 1 1 0] and [0 2 2 1 1 0 0 0 1 1]: [0 0 2 1 1 0 0 0 1 0]\n",
      "sum of [0 0 2 1 1 0 0 0 1 0]: 5\n",
      "0.564805860111\n"
     ]
    }
   ],
   "source": [
    "values = sentences[important_words].to_numpy()\n",
    "sentence_1 = values[0]\n",
    "sentence_2 = values[1]\n",
    "print get_euclidean_distance(sentence_1, sentence_2)\n",
    "print 1 - get_cosine_similarity(sentence_1, sentence_2)"
   ]
  },
  {
   "cell_type": "code",
   "execution_count": 13,
   "metadata": {
    "collapsed": false
   },
   "outputs": [
    {
     "data": {
      "text/html": [
       "<div style=\"max-height:1000px;max-width:1500px;overflow:auto;\"><table frame=\"box\" rules=\"cols\">\n",
       "    <tr>\n",
       "        <th style=\"padding-left: 1em; padding-right: 1em; text-align: center\">value</th>\n",
       "        <th style=\"padding-left: 1em; padding-right: 1em; text-align: center\">clean</th>\n",
       "        <th style=\"padding-left: 1em; padding-right: 1em; text-align: center\">the</th>\n",
       "        <th style=\"padding-left: 1em; padding-right: 1em; text-align: center\">a</th>\n",
       "        <th style=\"padding-left: 1em; padding-right: 1em; text-align: center\">quick</th>\n",
       "        <th style=\"padding-left: 1em; padding-right: 1em; text-align: center\">brown</th>\n",
       "        <th style=\"padding-left: 1em; padding-right: 1em; text-align: center\">fox</th>\n",
       "        <th style=\"padding-left: 1em; padding-right: 1em; text-align: center\">jumps</th>\n",
       "        <th style=\"padding-left: 1em; padding-right: 1em; text-align: center\">over</th>\n",
       "        <th style=\"padding-left: 1em; padding-right: 1em; text-align: center\">lazy</th>\n",
       "        <th style=\"padding-left: 1em; padding-right: 1em; text-align: center\">dog</th>\n",
       "        <th style=\"padding-left: 1em; padding-right: 1em; text-align: center\">outpaces</th>\n",
       "    </tr>\n",
       "    <tr>\n",
       "        <td style=\"padding-left: 1em; padding-right: 1em; text-align: center; vertical-align: top\">The quick brown fox jumps<br>over the lazy dog. ...</td>\n",
       "        <td style=\"padding-left: 1em; padding-right: 1em; text-align: center; vertical-align: top\">the quick brown fox jumps<br>over the lazy dog ...</td>\n",
       "        <td style=\"padding-left: 1em; padding-right: 1em; text-align: center; vertical-align: top\">2</td>\n",
       "        <td style=\"padding-left: 1em; padding-right: 1em; text-align: center; vertical-align: top\">0</td>\n",
       "        <td style=\"padding-left: 1em; padding-right: 1em; text-align: center; vertical-align: top\">1</td>\n",
       "        <td style=\"padding-left: 1em; padding-right: 1em; text-align: center; vertical-align: top\">1</td>\n",
       "        <td style=\"padding-left: 1em; padding-right: 1em; text-align: center; vertical-align: top\">1</td>\n",
       "        <td style=\"padding-left: 1em; padding-right: 1em; text-align: center; vertical-align: top\">1</td>\n",
       "        <td style=\"padding-left: 1em; padding-right: 1em; text-align: center; vertical-align: top\">1</td>\n",
       "        <td style=\"padding-left: 1em; padding-right: 1em; text-align: center; vertical-align: top\">1</td>\n",
       "        <td style=\"padding-left: 1em; padding-right: 1em; text-align: center; vertical-align: top\">1</td>\n",
       "        <td style=\"padding-left: 1em; padding-right: 1em; text-align: center; vertical-align: top\">0</td>\n",
       "    </tr>\n",
       "    <tr>\n",
       "        <td style=\"padding-left: 1em; padding-right: 1em; text-align: center; vertical-align: top\">A quick brown dog<br>outpaces a quick fox. ...</td>\n",
       "        <td style=\"padding-left: 1em; padding-right: 1em; text-align: center; vertical-align: top\">a quick brown dog<br>outpaces a quick fox ...</td>\n",
       "        <td style=\"padding-left: 1em; padding-right: 1em; text-align: center; vertical-align: top\">0</td>\n",
       "        <td style=\"padding-left: 1em; padding-right: 1em; text-align: center; vertical-align: top\">2</td>\n",
       "        <td style=\"padding-left: 1em; padding-right: 1em; text-align: center; vertical-align: top\">2</td>\n",
       "        <td style=\"padding-left: 1em; padding-right: 1em; text-align: center; vertical-align: top\">1</td>\n",
       "        <td style=\"padding-left: 1em; padding-right: 1em; text-align: center; vertical-align: top\">1</td>\n",
       "        <td style=\"padding-left: 1em; padding-right: 1em; text-align: center; vertical-align: top\">0</td>\n",
       "        <td style=\"padding-left: 1em; padding-right: 1em; text-align: center; vertical-align: top\">0</td>\n",
       "        <td style=\"padding-left: 1em; padding-right: 1em; text-align: center; vertical-align: top\">0</td>\n",
       "        <td style=\"padding-left: 1em; padding-right: 1em; text-align: center; vertical-align: top\">1</td>\n",
       "        <td style=\"padding-left: 1em; padding-right: 1em; text-align: center; vertical-align: top\">1</td>\n",
       "    </tr>\n",
       "</table>\n",
       "[2 rows x 12 columns]<br/>\n",
       "</div>"
      ],
      "text/plain": [
       "Columns:\n",
       "\tvalue\tstr\n",
       "\tclean\tstr\n",
       "\tthe\tint\n",
       "\ta\tint\n",
       "\tquick\tint\n",
       "\tbrown\tint\n",
       "\tfox\tint\n",
       "\tjumps\tint\n",
       "\tover\tint\n",
       "\tlazy\tint\n",
       "\tdog\tint\n",
       "\toutpaces\tint\n",
       "\n",
       "Rows: 2\n",
       "\n",
       "Data:\n",
       "+-------------------------------+-------------------------------+-----+---+-------+\n",
       "|             value             |             clean             | the | a | quick |\n",
       "+-------------------------------+-------------------------------+-----+---+-------+\n",
       "| The quick brown fox jumps ... | the quick brown fox jumps ... |  2  | 0 |   1   |\n",
       "| A quick brown dog outpaces... | a quick brown dog outpaces... |  0  | 2 |   2   |\n",
       "+-------------------------------+-------------------------------+-----+---+-------+\n",
       "+-------+-----+-------+------+------+-----+----------+\n",
       "| brown | fox | jumps | over | lazy | dog | outpaces |\n",
       "+-------+-----+-------+------+------+-----+----------+\n",
       "|   1   |  1  |   1   |  1   |  1   |  1  |    0     |\n",
       "|   1   |  1  |   0   |  0   |  0   |  1  |    1     |\n",
       "+-------+-----+-------+------+------+-----+----------+\n",
       "[2 rows x 12 columns]"
      ]
     },
     "execution_count": 13,
     "metadata": {},
     "output_type": "execute_result"
    }
   ],
   "source": [
    "sentences"
   ]
  },
  {
   "cell_type": "code",
   "execution_count": 14,
   "metadata": {
    "collapsed": false
   },
   "outputs": [
    {
     "data": {
      "text/html": [
       "<div style=\"max-height:1000px;max-width:1500px;overflow:auto;\"><table frame=\"box\" rules=\"cols\">\n",
       "    <tr>\n",
       "        <th style=\"padding-left: 1em; padding-right: 1em; text-align: center\">id</th>\n",
       "        <th style=\"padding-left: 1em; padding-right: 1em; text-align: center\">value</th>\n",
       "        <th style=\"padding-left: 1em; padding-right: 1em; text-align: center\">clean</th>\n",
       "        <th style=\"padding-left: 1em; padding-right: 1em; text-align: center\">the</th>\n",
       "        <th style=\"padding-left: 1em; padding-right: 1em; text-align: center\">a</th>\n",
       "        <th style=\"padding-left: 1em; padding-right: 1em; text-align: center\">quick</th>\n",
       "        <th style=\"padding-left: 1em; padding-right: 1em; text-align: center\">brown</th>\n",
       "        <th style=\"padding-left: 1em; padding-right: 1em; text-align: center\">fox</th>\n",
       "        <th style=\"padding-left: 1em; padding-right: 1em; text-align: center\">jumps</th>\n",
       "        <th style=\"padding-left: 1em; padding-right: 1em; text-align: center\">over</th>\n",
       "        <th style=\"padding-left: 1em; padding-right: 1em; text-align: center\">lazy</th>\n",
       "        <th style=\"padding-left: 1em; padding-right: 1em; text-align: center\">dog</th>\n",
       "    </tr>\n",
       "    <tr>\n",
       "        <td style=\"padding-left: 1em; padding-right: 1em; text-align: center; vertical-align: top\">0</td>\n",
       "        <td style=\"padding-left: 1em; padding-right: 1em; text-align: center; vertical-align: top\">The quick brown fox jumps<br>over the lazy dog. ...</td>\n",
       "        <td style=\"padding-left: 1em; padding-right: 1em; text-align: center; vertical-align: top\">the quick brown fox jumps<br>over the lazy dog ...</td>\n",
       "        <td style=\"padding-left: 1em; padding-right: 1em; text-align: center; vertical-align: top\">2</td>\n",
       "        <td style=\"padding-left: 1em; padding-right: 1em; text-align: center; vertical-align: top\">0</td>\n",
       "        <td style=\"padding-left: 1em; padding-right: 1em; text-align: center; vertical-align: top\">1</td>\n",
       "        <td style=\"padding-left: 1em; padding-right: 1em; text-align: center; vertical-align: top\">1</td>\n",
       "        <td style=\"padding-left: 1em; padding-right: 1em; text-align: center; vertical-align: top\">1</td>\n",
       "        <td style=\"padding-left: 1em; padding-right: 1em; text-align: center; vertical-align: top\">1</td>\n",
       "        <td style=\"padding-left: 1em; padding-right: 1em; text-align: center; vertical-align: top\">1</td>\n",
       "        <td style=\"padding-left: 1em; padding-right: 1em; text-align: center; vertical-align: top\">1</td>\n",
       "        <td style=\"padding-left: 1em; padding-right: 1em; text-align: center; vertical-align: top\">1</td>\n",
       "    </tr>\n",
       "    <tr>\n",
       "        <td style=\"padding-left: 1em; padding-right: 1em; text-align: center; vertical-align: top\">1</td>\n",
       "        <td style=\"padding-left: 1em; padding-right: 1em; text-align: center; vertical-align: top\">A quick brown dog<br>outpaces a quick fox. ...</td>\n",
       "        <td style=\"padding-left: 1em; padding-right: 1em; text-align: center; vertical-align: top\">a quick brown dog<br>outpaces a quick fox ...</td>\n",
       "        <td style=\"padding-left: 1em; padding-right: 1em; text-align: center; vertical-align: top\">0</td>\n",
       "        <td style=\"padding-left: 1em; padding-right: 1em; text-align: center; vertical-align: top\">2</td>\n",
       "        <td style=\"padding-left: 1em; padding-right: 1em; text-align: center; vertical-align: top\">2</td>\n",
       "        <td style=\"padding-left: 1em; padding-right: 1em; text-align: center; vertical-align: top\">1</td>\n",
       "        <td style=\"padding-left: 1em; padding-right: 1em; text-align: center; vertical-align: top\">1</td>\n",
       "        <td style=\"padding-left: 1em; padding-right: 1em; text-align: center; vertical-align: top\">0</td>\n",
       "        <td style=\"padding-left: 1em; padding-right: 1em; text-align: center; vertical-align: top\">0</td>\n",
       "        <td style=\"padding-left: 1em; padding-right: 1em; text-align: center; vertical-align: top\">0</td>\n",
       "        <td style=\"padding-left: 1em; padding-right: 1em; text-align: center; vertical-align: top\">1</td>\n",
       "    </tr>\n",
       "</table>\n",
       "<table frame=\"box\" rules=\"cols\">\n",
       "    <tr>\n",
       "        <th style=\"padding-left: 1em; padding-right: 1em; text-align: center\">outpaces</th>\n",
       "    </tr>\n",
       "    <tr>\n",
       "        <td style=\"padding-left: 1em; padding-right: 1em; text-align: center; vertical-align: top\">0</td>\n",
       "    </tr>\n",
       "    <tr>\n",
       "        <td style=\"padding-left: 1em; padding-right: 1em; text-align: center; vertical-align: top\">1</td>\n",
       "    </tr>\n",
       "</table>\n",
       "[2 rows x 13 columns]<br/>\n",
       "</div>"
      ],
      "text/plain": [
       "Columns:\n",
       "\tid\tint\n",
       "\tvalue\tstr\n",
       "\tclean\tstr\n",
       "\tthe\tint\n",
       "\ta\tint\n",
       "\tquick\tint\n",
       "\tbrown\tint\n",
       "\tfox\tint\n",
       "\tjumps\tint\n",
       "\tover\tint\n",
       "\tlazy\tint\n",
       "\tdog\tint\n",
       "\toutpaces\tint\n",
       "\n",
       "Rows: 2\n",
       "\n",
       "Data:\n",
       "+----+-------------------------------+-------------------------------+-----+---+\n",
       "| id |             value             |             clean             | the | a |\n",
       "+----+-------------------------------+-------------------------------+-----+---+\n",
       "| 0  | The quick brown fox jumps ... | the quick brown fox jumps ... |  2  | 0 |\n",
       "| 1  | A quick brown dog outpaces... | a quick brown dog outpaces... |  0  | 2 |\n",
       "+----+-------------------------------+-------------------------------+-----+---+\n",
       "+-------+-------+-----+-------+------+------+-----+----------+\n",
       "| quick | brown | fox | jumps | over | lazy | dog | outpaces |\n",
       "+-------+-------+-----+-------+------+------+-----+----------+\n",
       "|   1   |   1   |  1  |   1   |  1   |  1   |  1  |    0     |\n",
       "|   2   |   1   |  1  |   0   |  0   |  0   |  1  |    1     |\n",
       "+-------+-------+-----+-------+------+------+-----+----------+\n",
       "[2 rows x 13 columns]"
      ]
     },
     "execution_count": 14,
     "metadata": {},
     "output_type": "execute_result"
    }
   ],
   "source": [
    "sentences = sentences.add_row_number()\n",
    "sentences"
   ]
  },
  {
   "cell_type": "code",
   "execution_count": 15,
   "metadata": {
    "collapsed": false
   },
   "outputs": [
    {
     "data": {
      "text/html": [
       "<div style=\"max-height:1000px;max-width:1500px;overflow:auto;\"><table frame=\"box\" rules=\"cols\">\n",
       "    <tr>\n",
       "        <th style=\"padding-left: 1em; padding-right: 1em; text-align: center\">id</th>\n",
       "        <th style=\"padding-left: 1em; padding-right: 1em; text-align: center\">value</th>\n",
       "        <th style=\"padding-left: 1em; padding-right: 1em; text-align: center\">clean</th>\n",
       "        <th style=\"padding-left: 1em; padding-right: 1em; text-align: center\">the</th>\n",
       "        <th style=\"padding-left: 1em; padding-right: 1em; text-align: center\">a</th>\n",
       "        <th style=\"padding-left: 1em; padding-right: 1em; text-align: center\">quick</th>\n",
       "        <th style=\"padding-left: 1em; padding-right: 1em; text-align: center\">brown</th>\n",
       "        <th style=\"padding-left: 1em; padding-right: 1em; text-align: center\">fox</th>\n",
       "        <th style=\"padding-left: 1em; padding-right: 1em; text-align: center\">jumps</th>\n",
       "        <th style=\"padding-left: 1em; padding-right: 1em; text-align: center\">over</th>\n",
       "        <th style=\"padding-left: 1em; padding-right: 1em; text-align: center\">lazy</th>\n",
       "        <th style=\"padding-left: 1em; padding-right: 1em; text-align: center\">dog</th>\n",
       "    </tr>\n",
       "    <tr>\n",
       "        <td style=\"padding-left: 1em; padding-right: 1em; text-align: center; vertical-align: top\">0</td>\n",
       "        <td style=\"padding-left: 1em; padding-right: 1em; text-align: center; vertical-align: top\">The quick brown fox jumps<br>over the lazy dog. ...</td>\n",
       "        <td style=\"padding-left: 1em; padding-right: 1em; text-align: center; vertical-align: top\">the quick brown fox jumps<br>over the lazy dog ...</td>\n",
       "        <td style=\"padding-left: 1em; padding-right: 1em; text-align: center; vertical-align: top\">2</td>\n",
       "        <td style=\"padding-left: 1em; padding-right: 1em; text-align: center; vertical-align: top\">0</td>\n",
       "        <td style=\"padding-left: 1em; padding-right: 1em; text-align: center; vertical-align: top\">1</td>\n",
       "        <td style=\"padding-left: 1em; padding-right: 1em; text-align: center; vertical-align: top\">1</td>\n",
       "        <td style=\"padding-left: 1em; padding-right: 1em; text-align: center; vertical-align: top\">1</td>\n",
       "        <td style=\"padding-left: 1em; padding-right: 1em; text-align: center; vertical-align: top\">1</td>\n",
       "        <td style=\"padding-left: 1em; padding-right: 1em; text-align: center; vertical-align: top\">1</td>\n",
       "        <td style=\"padding-left: 1em; padding-right: 1em; text-align: center; vertical-align: top\">1</td>\n",
       "        <td style=\"padding-left: 1em; padding-right: 1em; text-align: center; vertical-align: top\">1</td>\n",
       "    </tr>\n",
       "    <tr>\n",
       "        <td style=\"padding-left: 1em; padding-right: 1em; text-align: center; vertical-align: top\">1</td>\n",
       "        <td style=\"padding-left: 1em; padding-right: 1em; text-align: center; vertical-align: top\">A quick brown dog<br>outpaces a quick fox. ...</td>\n",
       "        <td style=\"padding-left: 1em; padding-right: 1em; text-align: center; vertical-align: top\">a quick brown dog<br>outpaces a quick fox ...</td>\n",
       "        <td style=\"padding-left: 1em; padding-right: 1em; text-align: center; vertical-align: top\">0</td>\n",
       "        <td style=\"padding-left: 1em; padding-right: 1em; text-align: center; vertical-align: top\">2</td>\n",
       "        <td style=\"padding-left: 1em; padding-right: 1em; text-align: center; vertical-align: top\">2</td>\n",
       "        <td style=\"padding-left: 1em; padding-right: 1em; text-align: center; vertical-align: top\">1</td>\n",
       "        <td style=\"padding-left: 1em; padding-right: 1em; text-align: center; vertical-align: top\">1</td>\n",
       "        <td style=\"padding-left: 1em; padding-right: 1em; text-align: center; vertical-align: top\">0</td>\n",
       "        <td style=\"padding-left: 1em; padding-right: 1em; text-align: center; vertical-align: top\">0</td>\n",
       "        <td style=\"padding-left: 1em; padding-right: 1em; text-align: center; vertical-align: top\">0</td>\n",
       "        <td style=\"padding-left: 1em; padding-right: 1em; text-align: center; vertical-align: top\">1</td>\n",
       "    </tr>\n",
       "</table>\n",
       "<table frame=\"box\" rules=\"cols\">\n",
       "    <tr>\n",
       "        <th style=\"padding-left: 1em; padding-right: 1em; text-align: center\">outpaces</th>\n",
       "        <th style=\"padding-left: 1em; padding-right: 1em; text-align: center\">tf_idf</th>\n",
       "    </tr>\n",
       "    <tr>\n",
       "        <td style=\"padding-left: 1em; padding-right: 1em; text-align: center; vertical-align: top\">0</td>\n",
       "        <td style=\"padding-left: 1em; padding-right: 1em; text-align: center; vertical-align: top\">{'brown': 0.0, 'lazy':<br>0.6931471805599453, ...</td>\n",
       "    </tr>\n",
       "    <tr>\n",
       "        <td style=\"padding-left: 1em; padding-right: 1em; text-align: center; vertical-align: top\">1</td>\n",
       "        <td style=\"padding-left: 1em; padding-right: 1em; text-align: center; vertical-align: top\">{'outpaces':<br>0.6931471805599453, ...</td>\n",
       "    </tr>\n",
       "</table>\n",
       "[2 rows x 14 columns]<br/>\n",
       "</div>"
      ],
      "text/plain": [
       "Columns:\n",
       "\tid\tint\n",
       "\tvalue\tstr\n",
       "\tclean\tstr\n",
       "\tthe\tint\n",
       "\ta\tint\n",
       "\tquick\tint\n",
       "\tbrown\tint\n",
       "\tfox\tint\n",
       "\tjumps\tint\n",
       "\tover\tint\n",
       "\tlazy\tint\n",
       "\tdog\tint\n",
       "\toutpaces\tint\n",
       "\ttf_idf\tdict\n",
       "\n",
       "Rows: 2\n",
       "\n",
       "Data:\n",
       "+----+-------------------------------+-------------------------------+-----+---+\n",
       "| id |             value             |             clean             | the | a |\n",
       "+----+-------------------------------+-------------------------------+-----+---+\n",
       "| 0  | The quick brown fox jumps ... | the quick brown fox jumps ... |  2  | 0 |\n",
       "| 1  | A quick brown dog outpaces... | a quick brown dog outpaces... |  0  | 2 |\n",
       "+----+-------------------------------+-------------------------------+-----+---+\n",
       "+-------+-------+-----+-------+------+------+-----+----------+\n",
       "| quick | brown | fox | jumps | over | lazy | dog | outpaces |\n",
       "+-------+-------+-----+-------+------+------+-----+----------+\n",
       "|   1   |   1   |  1  |   1   |  1   |  1   |  1  |    0     |\n",
       "|   2   |   1   |  1  |   0   |  0   |  0   |  1  |    1     |\n",
       "+-------+-------+-----+-------+------+------+-----+----------+\n",
       "+-------------------------------+\n",
       "|             tf_idf            |\n",
       "+-------------------------------+\n",
       "| {'brown': 0.0, 'lazy': 0.6... |\n",
       "| {'outpaces': 0.69314718055... |\n",
       "+-------------------------------+\n",
       "[2 rows x 14 columns]"
      ]
     },
     "execution_count": 15,
     "metadata": {},
     "output_type": "execute_result"
    }
   ],
   "source": [
    "sentences['tf_idf'] = graphlab.text_analytics.tf_idf(sentences['clean'])\n",
    "sentences"
   ]
  },
  {
   "cell_type": "code",
   "execution_count": 19,
   "metadata": {
    "collapsed": true
   },
   "outputs": [],
   "source": [
    "from scipy.sparse import csr_matrix\n",
    "def sframe_to_scipy(column):\n",
    "    print 'Parameter:'\n",
    "    print column\n",
    "    \"\"\" \n",
    "    Convert a dict-typed SArray into a SciPy sparse matrix.\n",
    "    \n",
    "    Returns\n",
    "    -------\n",
    "        mat : a SciPy sparse matrix where mat[i, j] is the value of word j for document i.\n",
    "        mapping : a dictionary where mapping[j] is the word whose values are in column j.\n",
    "    \"\"\"\n",
    "    # Create triples of (row_id, feature_id, count).\n",
    "    x = graphlab.SFrame({'X1':column})\n",
    "    print 'Creating X1:'\n",
    "    print x\n",
    "    \n",
    "    # 1. Add a row number.\n",
    "    x = x.add_row_number()\n",
    "    print 'Adding row number:'\n",
    "    print x\n",
    "    # 2. Stack will transform x to have a row for each unique (row, key) pair.\n",
    "    x = x.stack('X1', ['feature', 'value'])\n",
    "    print 'Pairs of word and tf-idf:'\n",
    "    print x\n",
    "\n",
    "    # Map words into integers using a OneHotEncoder feature transformation.\n",
    "    f = graphlab.feature_engineering.OneHotEncoder(features=['feature'])\n",
    "    print 'One-hot encoded:'\n",
    "    print f\n",
    "\n",
    "    # We first fit the transformer using the above data.\n",
    "    f.fit(x)\n",
    "    print 'Fitted encoder:'\n",
    "    print f\n",
    "\n",
    "    # The transform method will add a new column that is the transformed version\n",
    "    # of the 'word' column.\n",
    "    x = f.transform(x)\n",
    "    print 'Applied encoder:'\n",
    "    print x\n",
    "\n",
    "    # Get the feature mapping.\n",
    "    mapping = f['feature_encoding']\n",
    "    print 'Mapping:'\n",
    "    print mapping\n",
    "\n",
    "    # Get the actual word id.\n",
    "    x['feature_id'] = x['encoded_features'].dict_keys().apply(lambda x: x[0])\n",
    "    print 'Getting the actual word id:'\n",
    "    print x\n",
    "\n",
    "    # Create numpy arrays that contain the data for the sparse matrix.\n",
    "    i = np.array(x['id'])\n",
    "    j = np.array(x['feature_id'])\n",
    "    v = np.array(x['value'])\n",
    "    width = x['id'].max() + 1\n",
    "    height = x['feature_id'].max() + 1\n",
    "\n",
    "    # Create a sparse matrix.\n",
    "    mat = csr_matrix((v, (i, j)), shape=(width, height))\n",
    "    print 'Resulting matrix:'\n",
    "    print mat\n",
    "\n",
    "    return mat, mapping"
   ]
  },
  {
   "cell_type": "code",
   "execution_count": 20,
   "metadata": {
    "collapsed": false
   },
   "outputs": [
    {
     "name": "stdout",
     "output_type": "stream",
     "text": [
      "Parameter:\n",
      "[{'brown': 0.0, 'lazy': 0.6931471805599453, 'jumps': 0.6931471805599453, 'fox': 0.0, 'dog': 0.0, 'quick': 0.0, 'the': 1.3862943611198906, 'over': 0.6931471805599453}, {'outpaces': 0.6931471805599453, 'brown': 0.0, 'fox': 0.0, 'dog': 0.0, 'a': 1.3862943611198906, 'quick': 0.0}]\n",
      "Creating X1:\n",
      "+-------------------------------+\n",
      "|               X1              |\n",
      "+-------------------------------+\n",
      "| {'brown': 0.0, 'lazy': 0.6... |\n",
      "| {'outpaces': 0.69314718055... |\n",
      "+-------------------------------+\n",
      "[2 rows x 1 columns]\n",
      "\n",
      "Adding row number:\n",
      "+----+-------------------------------+\n",
      "| id |               X1              |\n",
      "+----+-------------------------------+\n",
      "| 0  | {'brown': 0.0, 'lazy': 0.6... |\n",
      "| 1  | {'outpaces': 0.69314718055... |\n",
      "+----+-------------------------------+\n",
      "[2 rows x 2 columns]\n",
      "\n",
      "Pairs of word and tf-idf:\n",
      "+----+---------+---------------+\n",
      "| id | feature |     value     |\n",
      "+----+---------+---------------+\n",
      "| 0  |   dog   |      0.0      |\n",
      "| 0  |   lazy  | 0.69314718056 |\n",
      "| 0  |   fox   |      0.0      |\n",
      "| 0  |   over  | 0.69314718056 |\n",
      "| 0  |  jumps  | 0.69314718056 |\n",
      "| 0  |  brown  |      0.0      |\n",
      "| 0  |  quick  |      0.0      |\n",
      "| 0  |   the   | 1.38629436112 |\n",
      "| 1  |   fox   |      0.0      |\n",
      "| 1  |   dog   |      0.0      |\n",
      "+----+---------+---------------+\n",
      "[14 rows x 3 columns]\n",
      "Note: Only the head of the SFrame is printed.\n",
      "You can use print_rows(num_rows=m, num_columns=n) to print more rows and columns.\n",
      "One-hot encoded:\n",
      "Class                          : OneHotEncoder\n",
      "\n",
      "Model fields\n",
      "------------\n",
      "Features                       : ['feature']\n",
      "Excluded features              : None\n",
      "Output column name             : encoded_features\n",
      "Max categories per column      : 2147483647\n",
      "\n",
      "Fitted encoder:\n",
      "Class                          : OneHotEncoder\n",
      "\n",
      "Model fields\n",
      "------------\n",
      "Features                       : ['feature']\n",
      "Excluded features              : None\n",
      "Output column name             : encoded_features\n",
      "Max categories per column      : 2147483647\n",
      "\n",
      "Applied encoder:\n",
      "+----+---------------+------------------+\n",
      "| id |     value     | encoded_features |\n",
      "+----+---------------+------------------+\n",
      "| 0  |      0.0      |      {8: 1}      |\n",
      "| 0  | 0.69314718056 |      {5: 1}      |\n",
      "| 0  |      0.0      |      {9: 1}      |\n",
      "| 0  | 0.69314718056 |      {3: 1}      |\n",
      "| 0  | 0.69314718056 |      {1: 1}      |\n",
      "| 0  |      0.0      |      {7: 1}      |\n",
      "| 0  |      0.0      |      {6: 1}      |\n",
      "| 0  | 1.38629436112 |      {0: 1}      |\n",
      "| 1  |      0.0      |      {9: 1}      |\n",
      "| 1  |      0.0      |      {8: 1}      |\n",
      "+----+---------------+------------------+\n",
      "[14 rows x 3 columns]\n",
      "Note: Only the head of the SFrame is printed.\n",
      "You can use print_rows(num_rows=m, num_columns=n) to print more rows and columns.\n",
      "Mapping:\n",
      "+---------+----------+-------+\n",
      "| feature | category | index |\n",
      "+---------+----------+-------+\n",
      "| feature |   the    |   0   |\n",
      "| feature |  jumps   |   1   |\n",
      "| feature |    a     |   2   |\n",
      "| feature |   over   |   3   |\n",
      "| feature | outpaces |   4   |\n",
      "| feature |   lazy   |   5   |\n",
      "| feature |  quick   |   6   |\n",
      "| feature |  brown   |   7   |\n",
      "| feature |   dog    |   8   |\n",
      "| feature |   fox    |   9   |\n",
      "+---------+----------+-------+\n",
      "[10 rows x 3 columns]\n",
      "\n",
      "Getting the actual word id:\n",
      "+----+---------------+------------------+------------+\n",
      "| id |     value     | encoded_features | feature_id |\n",
      "+----+---------------+------------------+------------+\n",
      "| 0  |      0.0      |      {8: 1}      |     8      |\n",
      "| 0  | 0.69314718056 |      {5: 1}      |     5      |\n",
      "| 0  |      0.0      |      {9: 1}      |     9      |\n",
      "| 0  | 0.69314718056 |      {3: 1}      |     3      |\n",
      "| 0  | 0.69314718056 |      {1: 1}      |     1      |\n",
      "| 0  |      0.0      |      {7: 1}      |     7      |\n",
      "| 0  |      0.0      |      {6: 1}      |     6      |\n",
      "| 0  | 1.38629436112 |      {0: 1}      |     0      |\n",
      "| 1  |      0.0      |      {9: 1}      |     9      |\n",
      "| 1  |      0.0      |      {8: 1}      |     8      |\n",
      "+----+---------------+------------------+------------+\n",
      "[14 rows x 4 columns]\n",
      "Note: Only the head of the SFrame is printed.\n",
      "You can use print_rows(num_rows=m, num_columns=n) to print more rows and columns.\n",
      "Resulting matrix:\n",
      "  (0, 0)\t1.38629436112\n",
      "  (0, 1)\t0.69314718056\n",
      "  (0, 3)\t0.69314718056\n",
      "  (0, 5)\t0.69314718056\n",
      "  (0, 6)\t0.0\n",
      "  (0, 7)\t0.0\n",
      "  (0, 8)\t0.0\n",
      "  (0, 9)\t0.0\n",
      "  (1, 2)\t1.38629436112\n",
      "  (1, 4)\t0.69314718056\n",
      "  (1, 6)\t0.0\n",
      "  (1, 7)\t0.0\n",
      "  (1, 8)\t0.0\n",
      "  (1, 9)\t0.0\n"
     ]
    },
    {
     "data": {
      "text/plain": [
       "(<2x10 sparse matrix of type '<type 'numpy.float64'>'\n",
       " \twith 14 stored elements in Compressed Sparse Row format>, Columns:\n",
       " \tfeature\tstr\n",
       " \tcategory\tstr\n",
       " \tindex\tint\n",
       " \n",
       " Rows: 10\n",
       " \n",
       " Data:\n",
       " +---------+----------+-------+\n",
       " | feature | category | index |\n",
       " +---------+----------+-------+\n",
       " | feature |   the    |   0   |\n",
       " | feature |  jumps   |   1   |\n",
       " | feature |    a     |   2   |\n",
       " | feature |   over   |   3   |\n",
       " | feature | outpaces |   4   |\n",
       " | feature |   lazy   |   5   |\n",
       " | feature |  quick   |   6   |\n",
       " | feature |  brown   |   7   |\n",
       " | feature |   dog    |   8   |\n",
       " | feature |   fox    |   9   |\n",
       " +---------+----------+-------+\n",
       " [10 rows x 3 columns])"
      ]
     },
     "execution_count": 20,
     "metadata": {},
     "output_type": "execute_result"
    }
   ],
   "source": [
    "sframe_to_scipy(sentences['tf_idf'])"
   ]
  }
 ],
 "metadata": {
  "kernelspec": {
   "display_name": "Python 2",
   "language": "python",
   "name": "python2"
  },
  "language_info": {
   "codemirror_mode": {
    "name": "ipython",
    "version": 2
   },
   "file_extension": ".py",
   "mimetype": "text/x-python",
   "name": "python",
   "nbconvert_exporter": "python",
   "pygments_lexer": "ipython2",
   "version": "2.7.11"
  }
 },
 "nbformat": 4,
 "nbformat_minor": 0
}
