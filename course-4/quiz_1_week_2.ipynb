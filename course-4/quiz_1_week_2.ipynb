{
 "cells": [
  {
   "cell_type": "code",
   "execution_count": 15,
   "metadata": {
    "collapsed": true
   },
   "outputs": [],
   "source": [
    "import numpy as np\n",
    "    "
   ]
  },
  {
   "cell_type": "code",
   "execution_count": 30,
   "metadata": {
    "collapsed": true
   },
   "outputs": [],
   "source": [
    "def get_power(array, power):\n",
    "    result = np.power(array, power)\n",
    "    #print array + ' to the ' + power + ': ' + result\n",
    "    print '%s to the %d: %s' % (str(array), power, str(result))\n",
    "    return result"
   ]
  },
  {
   "cell_type": "code",
   "execution_count": 32,
   "metadata": {
    "collapsed": true
   },
   "outputs": [],
   "source": [
    "def get_sum(array):\n",
    "    result = np.sum(array)\n",
    "    print 'sum of %s: %s' % (str(array), str(result))\n",
    "    return result"
   ]
  },
  {
   "cell_type": "code",
   "execution_count": 38,
   "metadata": {
    "collapsed": false
   },
   "outputs": [],
   "source": [
    "def get_subtraction(array1, array2):\n",
    "    result = np.subtract(array1, array2)\n",
    "    print 'subtraction of %s and %s: %s' % (str(array1), str(array2), str(result))\n",
    "    return result"
   ]
  },
  {
   "cell_type": "code",
   "execution_count": 34,
   "metadata": {
    "collapsed": true
   },
   "outputs": [],
   "source": [
    "def get_product(array1, array2):\n",
    "    result = np.multiply(array1, array2)\n",
    "    print 'product of %s and %s: %s' % (str(array1), str(array2), str(result))\n",
    "    return result"
   ]
  },
  {
   "cell_type": "code",
   "execution_count": 39,
   "metadata": {
    "collapsed": true
   },
   "outputs": [],
   "source": [
    "def get_euclidean_distance(array1, array2):\n",
    "    sub = get_subtraction(array1, array2)\n",
    "    power = get_power(sub, 2)\n",
    "    sum_power = get_sum(power)\n",
    "    return np.sqrt(sum_power)"
   ]
  },
  {
   "cell_type": "code",
   "execution_count": 21,
   "metadata": {
    "collapsed": true
   },
   "outputs": [],
   "source": [
    "def get_cosine_similarity(array1, array2):\n",
    "    den_1 = np.sqrt(get_sum(get_power(array1, 2)))\n",
    "    den_2 = np.sqrt(get_sum(get_power(array2, 2)))\n",
    "    den = den_1 * den_2\n",
    "    num = get_sum(get_product(array1, array2))\n",
    "    return num / den"
   ]
  },
  {
   "cell_type": "code",
   "execution_count": 3,
   "metadata": {
    "collapsed": true
   },
   "outputs": [],
   "source": [
    "dp_a = [1., 2.]\n",
    "dp_b = [3., 5.]\n",
    "dp_c = [5., 4.]"
   ]
  },
  {
   "cell_type": "code",
   "execution_count": 35,
   "metadata": {
    "collapsed": false
   },
   "outputs": [
    {
     "name": "stdout",
     "output_type": "stream",
     "text": [
      "[1.0, 2.0] to the 2: [ 1.  4.]\n",
      "sum of [ 1.  4.]: 5.0\n",
      "[3.0, 5.0] to the 2: [  9.  25.]\n",
      "sum of [  9.  25.]: 34.0\n",
      "product of [1.0, 2.0] and [3.0, 5.0]: [  3.  10.]\n",
      "sum of [  3.  10.]: 13.0\n",
      "0.997054485502\n",
      "[1.0, 2.0] to the 2: [ 1.  4.]\n",
      "sum of [ 1.  4.]: 5.0\n",
      "[5.0, 4.0] to the 2: [ 25.  16.]\n",
      "sum of [ 25.  16.]: 41.0\n",
      "product of [1.0, 2.0] and [5.0, 4.0]: [ 5.  8.]\n",
      "sum of [ 5.  8.]: 13.0\n",
      "0.9079593845\n",
      "[3.0, 5.0] to the 2: [  9.  25.]\n",
      "sum of [  9.  25.]: 34.0\n",
      "[5.0, 4.0] to the 2: [ 25.  16.]\n",
      "sum of [ 25.  16.]: 41.0\n",
      "product of [3.0, 5.0] and [5.0, 4.0]: [ 15.  20.]\n",
      "sum of [ 15.  20.]: 35.0\n",
      "0.93742527201\n"
     ]
    }
   ],
   "source": [
    "print get_cosine_similarity(dp_a, dp_b)\n",
    "print get_cosine_similarity(dp_a, dp_c)\n",
    "print get_cosine_similarity(dp_b, dp_c)"
   ]
  },
  {
   "cell_type": "code",
   "execution_count": 40,
   "metadata": {
    "collapsed": false
   },
   "outputs": [
    {
     "name": "stdout",
     "output_type": "stream",
     "text": [
      "subtraction of [1.0, 2.0] and [3.0, 5.0]: [-2. -3.]\n",
      "[-2. -3.] to the 2: [ 4.  9.]\n",
      "sum of [ 4.  9.]: 13.0\n",
      "3.60555127546\n",
      "subtraction of [1.0, 2.0] and [5.0, 4.0]: [-4. -2.]\n",
      "[-4. -2.] to the 2: [ 16.   4.]\n",
      "sum of [ 16.   4.]: 20.0\n",
      "4.472135955\n",
      "subtraction of [3.0, 5.0] and [5.0, 4.0]: [-2.  1.]\n",
      "[-2.  1.] to the 2: [ 4.  1.]\n",
      "sum of [ 4.  1.]: 5.0\n",
      "2.2360679775\n"
     ]
    }
   ],
   "source": [
    "print get_euclidean_distance(dp_a, dp_b)\n",
    "print get_euclidean_distance(dp_a, dp_c)\n",
    "print get_euclidean_distance(dp_b, dp_c)"
   ]
  },
  {
   "cell_type": "code",
   "execution_count": 44,
   "metadata": {
    "collapsed": false
   },
   "outputs": [
    {
     "name": "stdout",
     "output_type": "stream",
     "text": [
      "+-------------------------------+\n",
      "|             value             |\n",
      "+-------------------------------+\n",
      "| The quick brown fox jumps ... |\n",
      "| A quick brown dog outpaces... |\n",
      "+-------------------------------+\n",
      "[2 rows x 1 columns]\n",
      "\n",
      "+-------------------------------+-------------------------------+-----+---+-------+\n",
      "|             value             |             clean             | the | a | quick |\n",
      "+-------------------------------+-------------------------------+-----+---+-------+\n",
      "| The quick brown fox jumps ... | the quick brown fox jumps ... |  2  | 0 |   1   |\n",
      "| A quick brown dog outpaces... | a quick brown dog outpaces... |  0  | 2 |   2   |\n",
      "+-------------------------------+-------------------------------+-----+---+-------+\n",
      "+-------+-----+-------+------+------+-----+----------+\n",
      "| brown | fox | jumps | over | lazy | dog | outpaces |\n",
      "+-------+-----+-------+------+------+-----+----------+\n",
      "|   1   |  1  |   1   |  1   |  1   |  1  |    0     |\n",
      "|   1   |  1  |   0   |  0   |  0   |  1  |    1     |\n",
      "+-------+-----+-------+------+------+-----+----------+\n",
      "[2 rows x 12 columns]\n",
      "\n"
     ]
    }
   ],
   "source": [
    "import graphlab\n",
    "\n",
    "important_words = ['the', 'a', 'quick', 'brown', 'fox', 'jumps', 'over', 'lazy', 'dog', 'outpaces']\n",
    "\n",
    "# Remote punctuation\n",
    "def remove_punctuation(text):\n",
    "    import string\n",
    "    return text.lower().translate(None, string.punctuation) \n",
    "\n",
    "import graphlab\n",
    "from graphlab import SFrame\n",
    "\n",
    "sentences = graphlab.SFrame({'value':['The quick brown fox jumps over the lazy dog.', 'A quick brown dog outpaces a quick fox.']})\n",
    "print sentences\n",
    "\n",
    "sentences['clean'] = sentences['value'].apply(remove_punctuation)\n",
    "\n",
    "# Split out the words into individual columns\n",
    "for word in important_words:\n",
    "    sentences[word] = sentences['clean'].apply(lambda s : s.split().count(word))\n",
    "    \n",
    "print sentences"
   ]
  },
  {
   "cell_type": "code",
   "execution_count": 56,
   "metadata": {
    "collapsed": false
   },
   "outputs": [
    {
     "name": "stdout",
     "output_type": "stream",
     "text": [
      "subtraction of [2 0 1 1 1 1 1 1 1 0] and [0 2 2 1 1 0 0 0 1 1]: [ 2 -2 -1  0  0  1  1  1  0 -1]\n",
      "[ 2 -2 -1  0  0  1  1  1  0 -1] to the 2: [4 4 1 0 0 1 1 1 0 1]\n",
      "sum of [4 4 1 0 0 1 1 1 0 1]: 13\n",
      "3.60555127546\n",
      "[2 0 1 1 1 1 1 1 1 0] to the 2: [4 0 1 1 1 1 1 1 1 0]\n",
      "sum of [4 0 1 1 1 1 1 1 1 0]: 11\n",
      "[0 2 2 1 1 0 0 0 1 1] to the 2: [0 4 4 1 1 0 0 0 1 1]\n",
      "sum of [0 4 4 1 1 0 0 0 1 1]: 12\n",
      "product of [2 0 1 1 1 1 1 1 1 0] and [0 2 2 1 1 0 0 0 1 1]: [0 0 2 1 1 0 0 0 1 0]\n",
      "sum of [0 0 2 1 1 0 0 0 1 0]: 5\n",
      "0.564805860111\n"
     ]
    }
   ],
   "source": [
    "values = sentences[important_words].to_numpy()\n",
    "sentence_1 = values[0]\n",
    "sentence_2 = values[1]\n",
    "print get_euclidean_distance(sentence_1, sentence_2)\n",
    "print 1 - get_cosine_similarity(sentence_1, sentence_2)"
   ]
  }
 ],
 "metadata": {
  "kernelspec": {
   "display_name": "Python 2",
   "language": "python",
   "name": "python2"
  },
  "language_info": {
   "codemirror_mode": {
    "name": "ipython",
    "version": 2
   },
   "file_extension": ".py",
   "mimetype": "text/x-python",
   "name": "python",
   "nbconvert_exporter": "python",
   "pygments_lexer": "ipython2",
   "version": "2.7.11"
  }
 },
 "nbformat": 4,
 "nbformat_minor": 0
}
